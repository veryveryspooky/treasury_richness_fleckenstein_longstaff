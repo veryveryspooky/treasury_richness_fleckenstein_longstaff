{
 "cells": [
  {
   "cell_type": "code",
   "execution_count": 2,
   "metadata": {},
   "outputs": [],
   "source": [
    "import pandas as pd\n",
    "import numpy as np\n",
    "from scipy.interpolate import interp1d\n",
    "import scipy.integrate as integrate"
   ]
  },
  {
   "cell_type": "code",
   "execution_count": 3,
   "metadata": {},
   "outputs": [],
   "source": [
    "hazard_rates = pd.read_csv('hazard_rates.csv')\n",
    "hazard_rates.sort_values(by = 'SettlementDate', inplace=True)\n",
    "hazard_rates.reset_index(inplace=True, drop=True)\n",
    "hazard_rates = hazard_rates.iloc[:100,:]\n",
    "\n",
    "discount_factors = pd.read_csv('discount_factor_common_dates.csv')\n",
    "discount_factors = discount_factors.set_index('Date')\n",
    "dfc = discount_factors.columns\n",
    "discount_factors['zero'] = 1\n",
    "discount_factors = discount_factors[np.append('zero', dfc )]\n",
    "discount_factors.sort_values(by = 'Date', inplace=True)\n",
    "discount_factors.reset_index(inplace=True)\n",
    "discount_factors = discount_factors.iloc[:100,:]\n",
    "\n",
    "coupons = pd.read_excel('treasury_bond_note_coupons.xlsx')\n",
    "\n",
    "cds = pd.read_csv('cds_data_processed.csv')\n",
    "cds.sort_values(by = 'Settlement Date', inplace=True)\n",
    "cds.reset_index(inplace=True, drop=True)\n",
    "cds = cds.iloc[:100,:]"
   ]
  },
  {
   "cell_type": "code",
   "execution_count": 4,
   "metadata": {},
   "outputs": [],
   "source": [
    "mean_coupons = coupons.groupby('Tenor').mean().reset_index()"
   ]
  },
  {
   "cell_type": "code",
   "execution_count": 5,
   "metadata": {},
   "outputs": [],
   "source": [
    "cds['Open_6m'] = cds['Open_6m']/100\n",
    "cds['Open_1yr'] = cds['Open_1yr']/100\n",
    "cds['Open_2yr'] = mean_coupons[mean_coupons['Tenor'] == 2]['Cpn'].values[0] - cds['Open_2yr']/100\n",
    "cds['Open_3yr'] = mean_coupons[mean_coupons['Tenor'] == 3]['Cpn'].values[0] - cds['Open_3yr']/100\n",
    "cds['Open_3yr'] = mean_coupons[mean_coupons['Tenor'] == 5]['Cpn'].values[0] - cds['Open_5yr']/100\n",
    "cds['Open_3yr'] = mean_coupons[mean_coupons['Tenor'] == 7]['Cpn'].values[0] - cds['Open_7yr']/100\n",
    "cds['Open_3yr'] = mean_coupons[mean_coupons['Tenor'] == 10]['Cpn'].values[0] - cds['Open_10yr']/100"
   ]
  },
  {
   "cell_type": "code",
   "execution_count": 6,
   "metadata": {},
   "outputs": [],
   "source": [
    "time_periods_m = np.array([0, 1/12,3/12, 6/12, 9/12, 1])\n",
    "time_periods_y = np.arange(2, 31, 1)\n",
    "time_periods = np.append(time_periods_m, time_periods_y)"
   ]
  },
  {
   "cell_type": "code",
   "execution_count": 7,
   "metadata": {},
   "outputs": [],
   "source": [
    "discount_factors_funcs = discount_factors.apply(lambda row: interp1d(time_periods, row[1:], kind='cubic'), axis = 1)"
   ]
  },
  {
   "cell_type": "code",
   "execution_count": 8,
   "metadata": {},
   "outputs": [],
   "source": [
    "cds_time_periods = [0.5, 1, 2, 3, 5, 7, 10]"
   ]
  },
  {
   "cell_type": "code",
   "execution_count": 9,
   "metadata": {},
   "outputs": [],
   "source": [
    "discount_factors_subset_times = discount_factors.iloc[:, [4, 6, 7, 8,10,12,15]]\n",
    "cds_subset_times = cds.iloc[:, 8:]"
   ]
  },
  {
   "cell_type": "code",
   "execution_count": 10,
   "metadata": {},
   "outputs": [],
   "source": [
    "df_integrate = np.empty(shape =(cds.shape[0],len(cds_time_periods )))\n",
    "for i in range(discount_factors.shape[0]):\n",
    "    for j, val in enumerate(cds_time_periods):\n",
    "        df_integrate[i, j]  = integrate.quad(lambda x: discount_factors_funcs[i](x), 0,val)[0]"
   ]
  },
  {
   "cell_type": "code",
   "execution_count": 11,
   "metadata": {},
   "outputs": [],
   "source": [
    "hz_moded = hazard_rates.copy()\n",
    "hz_moded\n",
    "hz_moded['Maturity_6m'] = np.exp(-hz_moded['Maturity_6m']*0.5)\n",
    "hz_moded['Maturity_1yr'] = np.exp(-hz_moded['Maturity_1yr']*1)\n",
    "hz_moded['Maturity_2yr'] = np.exp(-hz_moded['Maturity_1yr']*2)\n",
    "hz_moded['Maturity_3yr'] = np.exp(-hz_moded['Maturity_1yr']*3)\n",
    "hz_moded['Maturity_5yr'] = np.exp(-hz_moded['Maturity_1yr']*5)\n",
    "hz_moded['Maturity_7yr'] = np.exp(-hz_moded['Maturity_1yr']*7)\n",
    "hz_moded['Maturity_10yr'] = np.exp(-hz_moded['Maturity_1yr']*10)\n"
   ]
  },
  {
   "cell_type": "code",
   "execution_count": 12,
   "metadata": {},
   "outputs": [],
   "source": [
    "hz_moded_subset_times = hz_moded.iloc[:, 1:]"
   ]
  },
  {
   "cell_type": "code",
   "execution_count": 13,
   "metadata": {},
   "outputs": [
    {
     "name": "stderr",
     "output_type": "stream",
     "text": [
      "/var/folders/34/gh568vr946d45y78dns07shm0000gn/T/ipykernel_50556/4021414376.py:1: FutureWarning: Calling a ufunc on non-aligned DataFrames (or DataFrame/Series combination). Currently, the indices are ignored and the result takes the index/columns of the first DataFrame. In the future , the DataFrames/Series will be aligned before applying the ufunc.\n",
      "Convert one of the arguments to a NumPy array (eg 'ufunc(df1, np.asarray(df2)') to keep the current behaviour, or align manually (eg 'df1, df2 = df1.align(df2)') before passing to the ufunc to obtain the future behaviour and silence this warning.\n",
      "  pt_2 = np.multiply(np.add(np.multiply(cds_subset_times, df_integrate), discount_factors_subset_times), hz_moded_subset_times)\n"
     ]
    }
   ],
   "source": [
    "pt_2 = np.multiply(np.add(np.multiply(cds_subset_times, df_integrate), discount_factors_subset_times), hz_moded_subset_times)"
   ]
  },
  {
   "cell_type": "code",
   "execution_count": 14,
   "metadata": {},
   "outputs": [
    {
     "data": {
      "text/plain": [
       "46.569316309241266"
      ]
     },
     "execution_count": 14,
     "metadata": {},
     "output_type": "execute_result"
    }
   ],
   "source": [
    "integrate.quad(lambda t: integrate.quad(lambda x: discount_factors_funcs[i](x), 0,t)[0], 0, val)[0]"
   ]
  },
  {
   "cell_type": "code",
   "execution_count": null,
   "metadata": {},
   "outputs": [],
   "source": [
    "df_integrate_double = np.empty(shape =(cds.shape[0],len(cds_time_periods )))\n",
    "for i in range(discount_factors.shape[0]):\n",
    "    for j, val in enumerate(cds_time_periods):\n",
    "        df_integrate_double[i, j]  = integrate.quad(lambda t: hz_moded_subset_times[i,j] * np.exp(-hz_moded_subset_times[i,j]*t) * integrate.quad(lambda x: discount_factors_funcs[i](x), 0,t)[0] + discount_factors_funcs[i](t), 0, val)[0]"
   ]
  },
  {
   "cell_type": "code",
   "execution_count": 18,
   "metadata": {},
   "outputs": [],
   "source": [
    "df_integrate_double = np.empty(shape =(cds.shape[0],len(cds_time_periods )))\n",
    "for i in range(discount_factors.shape[0]):\n",
    "    for j, val in enumerate(cds_time_periods):\n",
    "        df_integrate_double[i, j] = integrate.quad(lambda t: hz_moded_subset_times.iloc[i,j] * np.exp(-hz_moded_subset_times.iloc[i,j]*t) * cds_subset_times.iloc[i,j]* integrate.quad(lambda x: discount_factors_funcs[i](x), 0,t)[0] + discount_factors_funcs[i](t), 0, val)[0]"
   ]
  },
  {
   "cell_type": "code",
   "execution_count": 21,
   "metadata": {},
   "outputs": [
    {
     "data": {
      "text/html": [
       "<div>\n",
       "<style scoped>\n",
       "    .dataframe tbody tr th:only-of-type {\n",
       "        vertical-align: middle;\n",
       "    }\n",
       "\n",
       "    .dataframe tbody tr th {\n",
       "        vertical-align: top;\n",
       "    }\n",
       "\n",
       "    .dataframe thead th {\n",
       "        text-align: right;\n",
       "    }\n",
       "</style>\n",
       "<table border=\"1\" class=\"dataframe\">\n",
       "  <thead>\n",
       "    <tr style=\"text-align: right;\">\n",
       "      <th></th>\n",
       "      <th>Open_6m</th>\n",
       "      <th>Open_1yr</th>\n",
       "      <th>Open_2yr</th>\n",
       "      <th>Open_3yr</th>\n",
       "      <th>Open_5yr</th>\n",
       "      <th>Open_7yr</th>\n",
       "      <th>Open_10yr</th>\n",
       "    </tr>\n",
       "  </thead>\n",
       "  <tbody>\n",
       "    <tr>\n",
       "      <th>0</th>\n",
       "      <td>1.646500</td>\n",
       "      <td>2.310415</td>\n",
       "      <td>3.365705</td>\n",
       "      <td>4.906065</td>\n",
       "      <td>9.384170</td>\n",
       "      <td>7.575275</td>\n",
       "      <td>8.750215</td>\n",
       "    </tr>\n",
       "    <tr>\n",
       "      <th>1</th>\n",
       "      <td>1.657918</td>\n",
       "      <td>2.335111</td>\n",
       "      <td>3.354415</td>\n",
       "      <td>4.904108</td>\n",
       "      <td>9.738937</td>\n",
       "      <td>7.662688</td>\n",
       "      <td>8.819084</td>\n",
       "    </tr>\n",
       "    <tr>\n",
       "      <th>2</th>\n",
       "      <td>1.641010</td>\n",
       "      <td>2.298713</td>\n",
       "      <td>3.373442</td>\n",
       "      <td>4.920027</td>\n",
       "      <td>9.231869</td>\n",
       "      <td>7.552071</td>\n",
       "      <td>8.814011</td>\n",
       "    </tr>\n",
       "    <tr>\n",
       "      <th>3</th>\n",
       "      <td>1.637763</td>\n",
       "      <td>2.291872</td>\n",
       "      <td>3.370707</td>\n",
       "      <td>4.910436</td>\n",
       "      <td>9.025242</td>\n",
       "      <td>7.486934</td>\n",
       "      <td>8.817402</td>\n",
       "    </tr>\n",
       "    <tr>\n",
       "      <th>4</th>\n",
       "      <td>1.626031</td>\n",
       "      <td>2.266451</td>\n",
       "      <td>3.386512</td>\n",
       "      <td>4.925152</td>\n",
       "      <td>8.739844</td>\n",
       "      <td>7.422736</td>\n",
       "      <td>8.773634</td>\n",
       "    </tr>\n",
       "    <tr>\n",
       "      <th>...</th>\n",
       "      <td>...</td>\n",
       "      <td>...</td>\n",
       "      <td>...</td>\n",
       "      <td>...</td>\n",
       "      <td>...</td>\n",
       "      <td>...</td>\n",
       "      <td>...</td>\n",
       "    </tr>\n",
       "    <tr>\n",
       "      <th>95</th>\n",
       "      <td>1.582735</td>\n",
       "      <td>2.173413</td>\n",
       "      <td>3.437068</td>\n",
       "      <td>4.963909</td>\n",
       "      <td>7.410427</td>\n",
       "      <td>7.167069</td>\n",
       "      <td>8.801854</td>\n",
       "    </tr>\n",
       "    <tr>\n",
       "      <th>96</th>\n",
       "      <td>1.583330</td>\n",
       "      <td>2.175329</td>\n",
       "      <td>3.435180</td>\n",
       "      <td>4.958185</td>\n",
       "      <td>7.416269</td>\n",
       "      <td>7.183995</td>\n",
       "      <td>8.811061</td>\n",
       "    </tr>\n",
       "    <tr>\n",
       "      <th>97</th>\n",
       "      <td>1.583394</td>\n",
       "      <td>2.175766</td>\n",
       "      <td>3.435657</td>\n",
       "      <td>4.953375</td>\n",
       "      <td>7.422010</td>\n",
       "      <td>7.222706</td>\n",
       "      <td>8.832766</td>\n",
       "    </tr>\n",
       "    <tr>\n",
       "      <th>98</th>\n",
       "      <td>1.583685</td>\n",
       "      <td>2.176660</td>\n",
       "      <td>3.433338</td>\n",
       "      <td>4.947440</td>\n",
       "      <td>7.412951</td>\n",
       "      <td>7.229383</td>\n",
       "      <td>8.842069</td>\n",
       "    </tr>\n",
       "    <tr>\n",
       "      <th>99</th>\n",
       "      <td>1.586265</td>\n",
       "      <td>2.182579</td>\n",
       "      <td>3.438432</td>\n",
       "      <td>4.972697</td>\n",
       "      <td>7.604717</td>\n",
       "      <td>7.251546</td>\n",
       "      <td>8.852945</td>\n",
       "    </tr>\n",
       "  </tbody>\n",
       "</table>\n",
       "<p>100 rows × 7 columns</p>\n",
       "</div>"
      ],
      "text/plain": [
       "     Open_6m  Open_1yr  Open_2yr  Open_3yr  Open_5yr  Open_7yr  Open_10yr\n",
       "0   1.646500  2.310415  3.365705  4.906065  9.384170  7.575275   8.750215\n",
       "1   1.657918  2.335111  3.354415  4.904108  9.738937  7.662688   8.819084\n",
       "2   1.641010  2.298713  3.373442  4.920027  9.231869  7.552071   8.814011\n",
       "3   1.637763  2.291872  3.370707  4.910436  9.025242  7.486934   8.817402\n",
       "4   1.626031  2.266451  3.386512  4.925152  8.739844  7.422736   8.773634\n",
       "..       ...       ...       ...       ...       ...       ...        ...\n",
       "95  1.582735  2.173413  3.437068  4.963909  7.410427  7.167069   8.801854\n",
       "96  1.583330  2.175329  3.435180  4.958185  7.416269  7.183995   8.811061\n",
       "97  1.583394  2.175766  3.435657  4.953375  7.422010  7.222706   8.832766\n",
       "98  1.583685  2.176660  3.433338  4.947440  7.412951  7.229383   8.842069\n",
       "99  1.586265  2.182579  3.438432  4.972697  7.604717  7.251546   8.852945\n",
       "\n",
       "[100 rows x 7 columns]"
      ]
     },
     "execution_count": 21,
     "metadata": {},
     "output_type": "execute_result"
    }
   ],
   "source": [
    "pt_2 + df_integrate_double"
   ]
  }
 ],
 "metadata": {
  "interpreter": {
   "hash": "48a2327c44ffb9a72cf89db1037efed23f579a37346c6adecb7528251a1c2964"
  },
  "kernelspec": {
   "display_name": "Python 3.9.7 ('qcf')",
   "language": "python",
   "name": "python3"
  },
  "language_info": {
   "codemirror_mode": {
    "name": "ipython",
    "version": 3
   },
   "file_extension": ".py",
   "mimetype": "text/x-python",
   "name": "python",
   "nbconvert_exporter": "python",
   "pygments_lexer": "ipython3",
   "version": "3.9.7"
  },
  "orig_nbformat": 4
 },
 "nbformat": 4,
 "nbformat_minor": 2
}
