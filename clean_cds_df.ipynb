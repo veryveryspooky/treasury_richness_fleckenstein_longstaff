{
 "cells": [
  {
   "cell_type": "code",
   "execution_count": 1,
   "metadata": {},
   "outputs": [],
   "source": [
    "import numpy as np\n",
    "import pandas as pd\n",
    "import matplotlib.pyplot as plt\n",
    "from datetime import timedelta"
   ]
  },
  {
   "cell_type": "markdown",
   "metadata": {},
   "source": [
    "Read CDS data"
   ]
  },
  {
   "cell_type": "code",
   "execution_count": 2,
   "metadata": {},
   "outputs": [],
   "source": [
    "cds_6m = pd.read_excel('cds.xlsx', sheet_name='6mth').dropna(axis= 0, how='all').add_suffix('_6m')[['Date_6m', 'Open_6m']]\n",
    "cds_1yr = pd.read_excel('cds.xlsx', sheet_name='1yr').dropna(axis= 0, how='all').add_suffix('_1yr')[['Date_1yr', 'Open_1yr']]\n",
    "cds_2yr  = pd.read_excel('cds.xlsx', sheet_name='2yr').dropna(axis= 0, how='all').add_suffix('_2yr')[['Date_2yr', 'Open_2yr']]\n",
    "cds_3yr = pd.read_excel('cds.xlsx', sheet_name='3yr').dropna(axis= 0, how='all').add_suffix('_3yr')[['Date_3yr', 'Open_3yr']]\n",
    "cds_5yr = pd.read_excel('cds.xlsx', sheet_name='5yr').dropna(axis= 0, how='all').add_suffix('_5yr')[['Date_5yr', 'Open_5yr']]\n",
    "cds_7yr  = pd.read_excel('cds.xlsx', sheet_name='7yr').dropna(axis= 0, how='all').add_suffix('_7yr')[['Date_7yr', 'Open_7yr']]\n",
    "cds_10yr  = pd.read_excel('cds.xlsx', sheet_name='10yr').dropna(axis= 0, how='all').add_suffix('_10yr')[['Date_10yr', 'Open_10yr']]\n",
    "cds_15yr = pd.read_excel('cds.xlsx', sheet_name='15yr').dropna(axis= 0, how='all').add_suffix('_15yr')[['Date_15yr', 'Open_15yr']]\n",
    "cds_20yr  = pd.read_excel('cds.xlsx', sheet_name='20yr').dropna(axis= 0, how='all').add_suffix('_20yr')[['Date_20yr', 'Open_20yr']]\n",
    "cds_30yr  = pd.read_excel('cds.xlsx', sheet_name='30yr').dropna(axis= 0, how='all').add_suffix('_30yr')[['Date_30yr', 'Open_30yr']]"
   ]
  },
  {
   "cell_type": "code",
   "execution_count": 3,
   "metadata": {},
   "outputs": [],
   "source": [
    "cds = cds_6m.merge(cds_1yr, left_on='Date_6m', right_on= 'Date_1yr', how='inner', copy = False).merge(cds_2yr, left_on='Date_6m', right_on= 'Date_2yr', how='inner', copy = False).merge(cds_3yr, left_on='Date_6m', right_on= 'Date_3yr', how='inner', copy = False).merge(cds_5yr, left_on='Date_6m', right_on= 'Date_5yr', how='inner', copy = False).merge(cds_7yr, left_on='Date_6m', right_on= 'Date_7yr', how='inner', copy = False).merge(cds_10yr, left_on='Date_6m', right_on= 'Date_10yr', how='inner', copy = False)"
   ]
  },
  {
   "cell_type": "code",
   "execution_count": 4,
   "metadata": {},
   "outputs": [],
   "source": [
    "cds = cds[cds['Date_6m'] < '2022-04-01']\n",
    "cds = cds.drop(columns=['Date_1yr', 'Date_2yr', 'Date_3yr', 'Date_5yr', 'Date_7yr', 'Date_10yr'])\n",
    "cds = cds.rename(columns={'Date_6m':'Settlement Date'})"
   ]
  },
  {
   "cell_type": "code",
   "execution_count": 5,
   "metadata": {},
   "outputs": [],
   "source": [
    "cds['Maturity_6m'] = cds['Settlement Date'] + pd.DateOffset(days = 180)\n",
    "cds['Maturity_1yr'] = cds['Settlement Date'] + pd.DateOffset(years =1)\n",
    "cds['Maturity_2yr'] = cds['Settlement Date'] + pd.DateOffset(years =2)\n",
    "cds['Maturity_3yr'] = cds['Settlement Date'] + pd.DateOffset(years =3)\n",
    "cds['Maturity_5yr'] = cds['Settlement Date'] + pd.DateOffset(years =5)\n",
    "cds['Maturity_7yr'] = cds['Settlement Date'] + pd.DateOffset(years =7)\n",
    "cds['Maturity_10yr'] = cds['Settlement Date'] + pd.DateOffset(years =10)\n",
    "cds = cds.reset_index(drop=True)"
   ]
  },
  {
   "cell_type": "code",
   "execution_count": 6,
   "metadata": {},
   "outputs": [
    {
     "data": {
      "text/html": [
       "<div>\n",
       "<style scoped>\n",
       "    .dataframe tbody tr th:only-of-type {\n",
       "        vertical-align: middle;\n",
       "    }\n",
       "\n",
       "    .dataframe tbody tr th {\n",
       "        vertical-align: top;\n",
       "    }\n",
       "\n",
       "    .dataframe thead th {\n",
       "        text-align: right;\n",
       "    }\n",
       "</style>\n",
       "<table border=\"1\" class=\"dataframe\">\n",
       "  <thead>\n",
       "    <tr style=\"text-align: right;\">\n",
       "      <th></th>\n",
       "      <th>Settlement Date</th>\n",
       "      <th>Open_6m</th>\n",
       "      <th>Open_1yr</th>\n",
       "      <th>Open_2yr</th>\n",
       "      <th>Open_3yr</th>\n",
       "      <th>Open_5yr</th>\n",
       "      <th>Open_7yr</th>\n",
       "      <th>Open_10yr</th>\n",
       "      <th>Maturity_6m</th>\n",
       "      <th>Maturity_1yr</th>\n",
       "      <th>Maturity_2yr</th>\n",
       "      <th>Maturity_3yr</th>\n",
       "      <th>Maturity_5yr</th>\n",
       "      <th>Maturity_7yr</th>\n",
       "      <th>Maturity_10yr</th>\n",
       "    </tr>\n",
       "  </thead>\n",
       "  <tbody>\n",
       "    <tr>\n",
       "      <th>0</th>\n",
       "      <td>2022-03-31</td>\n",
       "      <td>7.740</td>\n",
       "      <td>8.905</td>\n",
       "      <td>10.925</td>\n",
       "      <td>12.170</td>\n",
       "      <td>15.875</td>\n",
       "      <td>18.535</td>\n",
       "      <td>20.825</td>\n",
       "      <td>2022-09-27</td>\n",
       "      <td>2023-03-31</td>\n",
       "      <td>2024-03-31</td>\n",
       "      <td>2025-03-31</td>\n",
       "      <td>2027-03-31</td>\n",
       "      <td>2029-03-31</td>\n",
       "      <td>2032-03-31</td>\n",
       "    </tr>\n",
       "    <tr>\n",
       "      <th>1</th>\n",
       "      <td>2022-03-30</td>\n",
       "      <td>7.880</td>\n",
       "      <td>8.990</td>\n",
       "      <td>10.950</td>\n",
       "      <td>12.460</td>\n",
       "      <td>16.460</td>\n",
       "      <td>19.420</td>\n",
       "      <td>21.670</td>\n",
       "      <td>2022-09-26</td>\n",
       "      <td>2023-03-30</td>\n",
       "      <td>2024-03-30</td>\n",
       "      <td>2025-03-30</td>\n",
       "      <td>2027-03-30</td>\n",
       "      <td>2029-03-30</td>\n",
       "      <td>2032-03-30</td>\n",
       "    </tr>\n",
       "    <tr>\n",
       "      <th>2</th>\n",
       "      <td>2022-03-29</td>\n",
       "      <td>7.910</td>\n",
       "      <td>9.035</td>\n",
       "      <td>10.985</td>\n",
       "      <td>12.485</td>\n",
       "      <td>16.460</td>\n",
       "      <td>19.420</td>\n",
       "      <td>21.660</td>\n",
       "      <td>2022-09-25</td>\n",
       "      <td>2023-03-29</td>\n",
       "      <td>2024-03-29</td>\n",
       "      <td>2025-03-29</td>\n",
       "      <td>2027-03-29</td>\n",
       "      <td>2029-03-29</td>\n",
       "      <td>2032-03-29</td>\n",
       "    </tr>\n",
       "    <tr>\n",
       "      <th>3</th>\n",
       "      <td>2022-03-28</td>\n",
       "      <td>7.880</td>\n",
       "      <td>8.990</td>\n",
       "      <td>10.930</td>\n",
       "      <td>12.425</td>\n",
       "      <td>16.400</td>\n",
       "      <td>19.300</td>\n",
       "      <td>21.910</td>\n",
       "      <td>2022-09-24</td>\n",
       "      <td>2023-03-28</td>\n",
       "      <td>2024-03-28</td>\n",
       "      <td>2025-03-28</td>\n",
       "      <td>2027-03-28</td>\n",
       "      <td>2029-03-28</td>\n",
       "      <td>2032-03-28</td>\n",
       "    </tr>\n",
       "    <tr>\n",
       "      <th>4</th>\n",
       "      <td>2022-03-25</td>\n",
       "      <td>7.855</td>\n",
       "      <td>8.970</td>\n",
       "      <td>10.920</td>\n",
       "      <td>12.420</td>\n",
       "      <td>16.385</td>\n",
       "      <td>19.350</td>\n",
       "      <td>21.580</td>\n",
       "      <td>2022-09-21</td>\n",
       "      <td>2023-03-25</td>\n",
       "      <td>2024-03-25</td>\n",
       "      <td>2025-03-25</td>\n",
       "      <td>2027-03-25</td>\n",
       "      <td>2029-03-25</td>\n",
       "      <td>2032-03-25</td>\n",
       "    </tr>\n",
       "  </tbody>\n",
       "</table>\n",
       "</div>"
      ],
      "text/plain": [
       "  Settlement Date  Open_6m  Open_1yr  Open_2yr  Open_3yr  Open_5yr  Open_7yr  \\\n",
       "0      2022-03-31    7.740     8.905    10.925    12.170    15.875    18.535   \n",
       "1      2022-03-30    7.880     8.990    10.950    12.460    16.460    19.420   \n",
       "2      2022-03-29    7.910     9.035    10.985    12.485    16.460    19.420   \n",
       "3      2022-03-28    7.880     8.990    10.930    12.425    16.400    19.300   \n",
       "4      2022-03-25    7.855     8.970    10.920    12.420    16.385    19.350   \n",
       "\n",
       "   Open_10yr Maturity_6m Maturity_1yr Maturity_2yr Maturity_3yr Maturity_5yr  \\\n",
       "0     20.825  2022-09-27   2023-03-31   2024-03-31   2025-03-31   2027-03-31   \n",
       "1     21.670  2022-09-26   2023-03-30   2024-03-30   2025-03-30   2027-03-30   \n",
       "2     21.660  2022-09-25   2023-03-29   2024-03-29   2025-03-29   2027-03-29   \n",
       "3     21.910  2022-09-24   2023-03-28   2024-03-28   2025-03-28   2027-03-28   \n",
       "4     21.580  2022-09-21   2023-03-25   2024-03-25   2025-03-25   2027-03-25   \n",
       "\n",
       "  Maturity_7yr Maturity_10yr  \n",
       "0   2029-03-31    2032-03-31  \n",
       "1   2029-03-30    2032-03-30  \n",
       "2   2029-03-29    2032-03-29  \n",
       "3   2029-03-28    2032-03-28  \n",
       "4   2029-03-25    2032-03-25  "
      ]
     },
     "execution_count": 6,
     "metadata": {},
     "output_type": "execute_result"
    }
   ],
   "source": [
    "cds.head()"
   ]
  },
  {
   "cell_type": "code",
   "execution_count": 7,
   "metadata": {},
   "outputs": [],
   "source": [
    "cds = cds [['Settlement Date', 'Maturity_6m', 'Maturity_1yr',\n",
    "       'Maturity_2yr', 'Maturity_3yr', 'Maturity_5yr', 'Maturity_7yr',\n",
    "       'Maturity_10yr', 'Open_6m', 'Open_1yr', 'Open_2yr', 'Open_3yr',\n",
    "       'Open_5yr', 'Open_7yr', 'Open_10yr']]"
   ]
  },
  {
   "cell_type": "markdown",
   "metadata": {},
   "source": [
    "## Discount process"
   ]
  },
  {
   "cell_type": "code",
   "execution_count": 8,
   "metadata": {},
   "outputs": [],
   "source": [
    "discount = pd.read_csv('discount_factors.csv')\n",
    "discount = discount.rename(columns={'dates':'Date'})\n",
    "discount['Date'] = pd.to_datetime(discount['Date'])\n",
    "discount = discount.set_index('Date')"
   ]
  },
  {
   "cell_type": "code",
   "execution_count": 9,
   "metadata": {},
   "outputs": [],
   "source": [
    "rate = discount.applymap(lambda x : -np.log(x))"
   ]
  },
  {
   "cell_type": "code",
   "execution_count": 10,
   "metadata": {},
   "outputs": [],
   "source": [
    "mths = np.array([1/12, 3/12, 1/2, 9/12])\n",
    "yrs = np.arange(1, 31, 1)\n",
    "time_periods = np.append(mths, yrs)"
   ]
  },
  {
   "cell_type": "code",
   "execution_count": 11,
   "metadata": {},
   "outputs": [],
   "source": [
    "for i, val in enumerate(time_periods):\n",
    "    rate.iloc[:, i] = rate.iloc[:, i]/val\n",
    "rate = rate.reset_index()"
   ]
  },
  {
   "cell_type": "code",
   "execution_count": 12,
   "metadata": {},
   "outputs": [],
   "source": [
    "rate['Maturity_1m'] = rate['Date'] + pd.DateOffset(months = 1)\n",
    "rate['Maturity_3m'] = rate['Date'] + pd.DateOffset(months = 3)\n",
    "rate['Maturity_6m'] = rate['Date'] + pd.DateOffset(months = 6)\n",
    "rate['Maturity_9m'] = rate['Date'] + pd.DateOffset(months = 9)\n",
    "rate['Maturity_1yr'] = rate['Date'] + pd.DateOffset(years =1)\n",
    "rate['Maturity_2yr'] = rate['Date'] + pd.DateOffset(years =2)\n",
    "rate['Maturity_3yr'] = rate['Date'] + pd.DateOffset(years =3)\n",
    "rate['Maturity_4yr'] = rate['Date'] + pd.DateOffset(years =4)\n",
    "rate['Maturity_5yr'] = rate['Date'] + pd.DateOffset(years =5)\n",
    "rate['Maturity_6yr'] = rate['Date'] + pd.DateOffset(years =6)\n",
    "rate['Maturity_7yr'] = rate['Date'] + pd.DateOffset(years =7)\n",
    "rate['Maturity_8yr'] = rate['Date'] + pd.DateOffset(years =8)\n",
    "rate['Maturity_9yr'] = rate['Date'] + pd.DateOffset(years =9)\n",
    "rate['Maturity_10yr'] = rate['Date'] + pd.DateOffset(years =10)\n",
    "rate['Maturity_11yr'] = rate['Date'] + pd.DateOffset(years =11)"
   ]
  },
  {
   "cell_type": "code",
   "execution_count": 13,
   "metadata": {},
   "outputs": [],
   "source": [
    "rate = rate[['Date', 'Maturity_1m', 'Maturity_3m', 'Maturity_6m',\n",
    "       'Maturity_9m', 'Maturity_1yr', 'Maturity_2yr', 'Maturity_3yr',\n",
    "       'Maturity_4yr', 'Maturity_5yr', 'Maturity_6yr', 'Maturity_7yr',\n",
    "       'Maturity_8yr', 'Maturity_9yr', 'Maturity_10yr', 'Maturity_11yr', '1m', '3m', '6m', '9m', '12m', '2y', '3y', '4y', '5y', '6y',\n",
    "       '7y', '8y', '9y', '10y', '11y' ]]"
   ]
  },
  {
   "cell_type": "code",
   "execution_count": 14,
   "metadata": {},
   "outputs": [],
   "source": [
    "common_dates = [x for x in rate.Date if x in list(cds['Settlement Date'])]"
   ]
  },
  {
   "cell_type": "code",
   "execution_count": 15,
   "metadata": {},
   "outputs": [],
   "source": [
    "rate = rate[rate['Date'].isin(common_dates)]\n",
    "cds = cds[cds['Settlement Date'].isin(common_dates)]"
   ]
  },
  {
   "cell_type": "markdown",
   "metadata": {},
   "source": [
    "### Write files to csv"
   ]
  },
  {
   "cell_type": "code",
   "execution_count": 16,
   "metadata": {},
   "outputs": [],
   "source": [
    "rate.to_csv('interest_rates_from_df.csv', index=False)\n",
    "cds.to_csv(\"./cds_data_processed.csv\", index=False)"
   ]
  }
 ],
 "metadata": {
  "interpreter": {
   "hash": "48a2327c44ffb9a72cf89db1037efed23f579a37346c6adecb7528251a1c2964"
  },
  "kernelspec": {
   "display_name": "Python 3.9.7 ('qcf')",
   "language": "python",
   "name": "python3"
  },
  "language_info": {
   "codemirror_mode": {
    "name": "ipython",
    "version": 3
   },
   "file_extension": ".py",
   "mimetype": "text/x-python",
   "name": "python",
   "nbconvert_exporter": "python",
   "pygments_lexer": "ipython3",
   "version": "3.9.7"
  },
  "orig_nbformat": 4
 },
 "nbformat": 4,
 "nbformat_minor": 2
}
