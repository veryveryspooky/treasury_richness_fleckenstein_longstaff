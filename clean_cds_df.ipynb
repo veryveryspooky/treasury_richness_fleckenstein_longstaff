{
 "cells": [
  {
   "cell_type": "code",
   "execution_count": 1,
   "metadata": {},
   "outputs": [],
   "source": [
    "import numpy as np\n",
    "import pandas as pd\n",
    "import matplotlib.pyplot as plt\n",
    "from datetime import timedelta"
   ]
  },
  {
   "cell_type": "markdown",
   "metadata": {},
   "source": [
    "Read CDS data"
   ]
  },
  {
   "cell_type": "code",
   "execution_count": 2,
   "metadata": {},
   "outputs": [],
   "source": [
    "cds_6m = pd.read_excel('cds.xlsx', sheet_name='6mth').dropna(axis= 0, how='all').add_suffix('_6m')[['Date_6m', 'Open_6m']]\n",
    "cds_1yr = pd.read_excel('cds.xlsx', sheet_name='1yr').dropna(axis= 0, how='all').add_suffix('_1yr')[['Date_1yr', 'Open_1yr']]\n",
    "cds_2yr  = pd.read_excel('cds.xlsx', sheet_name='2yr').dropna(axis= 0, how='all').add_suffix('_2yr')[['Date_2yr', 'Open_2yr']]\n",
    "cds_3yr = pd.read_excel('cds.xlsx', sheet_name='3yr').dropna(axis= 0, how='all').add_suffix('_3yr')[['Date_3yr', 'Open_3yr']]\n",
    "cds_5yr = pd.read_excel('cds.xlsx', sheet_name='5yr').dropna(axis= 0, how='all').add_suffix('_5yr')[['Date_5yr', 'Open_5yr']]\n",
    "cds_7yr  = pd.read_excel('cds.xlsx', sheet_name='7yr').dropna(axis= 0, how='all').add_suffix('_7yr')[['Date_7yr', 'Open_7yr']]\n",
    "cds_10yr  = pd.read_excel('cds.xlsx', sheet_name='10yr').dropna(axis= 0, how='all').add_suffix('_10yr')[['Date_10yr', 'Open_10yr']]\n",
    "cds_15yr = pd.read_excel('cds.xlsx', sheet_name='15yr').dropna(axis= 0, how='all').add_suffix('_15yr')[['Date_15yr', 'Open_15yr']]\n",
    "cds_20yr  = pd.read_excel('cds.xlsx', sheet_name='20yr').dropna(axis= 0, how='all').add_suffix('_20yr')[['Date_20yr', 'Open_20yr']]\n",
    "cds_30yr  = pd.read_excel('cds.xlsx', sheet_name='30yr').dropna(axis= 0, how='all').add_suffix('_30yr')[['Date_30yr', 'Open_30yr']]"
   ]
  },
  {
   "cell_type": "code",
   "execution_count": 3,
   "metadata": {},
   "outputs": [],
   "source": [
    "cds = cds_6m.merge(cds_1yr, left_on='Date_6m', right_on= 'Date_1yr', how='inner', copy = False).merge(cds_2yr, left_on='Date_6m', right_on= 'Date_2yr', how='inner', copy = False).merge(cds_3yr, left_on='Date_6m', right_on= 'Date_3yr', how='inner', copy = False).merge(cds_5yr, left_on='Date_6m', right_on= 'Date_5yr', how='inner', copy = False).merge(cds_7yr, left_on='Date_6m', right_on= 'Date_7yr', how='inner', copy = False).merge(cds_10yr, left_on='Date_6m', right_on= 'Date_10yr', how='inner', copy = False)"
   ]
  },
  {
   "cell_type": "code",
   "execution_count": 4,
   "metadata": {},
   "outputs": [],
   "source": [
    "cds = cds[cds['Date_6m'] < '2022-04-01']\n",
    "cds = cds.drop(columns=['Date_1yr', 'Date_2yr', 'Date_3yr', 'Date_5yr', 'Date_7yr', 'Date_10yr'])\n",
    "cds = cds.rename(columns={'Date_6m':'Settlement Date'})"
   ]
  },
  {
   "cell_type": "code",
   "execution_count": 5,
   "metadata": {},
   "outputs": [],
   "source": [
    "cds['Maturity_6m'] = cds['Settlement Date'] + pd.DateOffset(days = 180)\n",
    "cds['Maturity_1yr'] = cds['Settlement Date'] + pd.DateOffset(years =1)\n",
    "cds['Maturity_2yr'] = cds['Settlement Date'] + pd.DateOffset(years =2)\n",
    "cds['Maturity_3yr'] = cds['Settlement Date'] + pd.DateOffset(years =3)\n",
    "cds['Maturity_5yr'] = cds['Settlement Date'] + pd.DateOffset(years =5)\n",
    "cds['Maturity_7yr'] = cds['Settlement Date'] + pd.DateOffset(years =7)\n",
    "cds['Maturity_10yr'] = cds['Settlement Date'] + pd.DateOffset(years =10)\n",
    "cds = cds.reset_index(drop=True)"
   ]
  },
  {
   "cell_type": "code",
   "execution_count": 32,
   "metadata": {},
   "outputs": [
    {
     "data": {
      "text/html": [
       "<div>\n",
       "<style scoped>\n",
       "    .dataframe tbody tr th:only-of-type {\n",
       "        vertical-align: middle;\n",
       "    }\n",
       "\n",
       "    .dataframe tbody tr th {\n",
       "        vertical-align: top;\n",
       "    }\n",
       "\n",
       "    .dataframe thead th {\n",
       "        text-align: right;\n",
       "    }\n",
       "</style>\n",
       "<table border=\"1\" class=\"dataframe\">\n",
       "  <thead>\n",
       "    <tr style=\"text-align: right;\">\n",
       "      <th></th>\n",
       "      <th>Settlement Date</th>\n",
       "      <th>Maturity_6m</th>\n",
       "      <th>Maturity_1yr</th>\n",
       "      <th>Maturity_2yr</th>\n",
       "      <th>Maturity_3yr</th>\n",
       "      <th>Maturity_5yr</th>\n",
       "      <th>Maturity_7yr</th>\n",
       "      <th>Maturity_10yr</th>\n",
       "      <th>Open_6m</th>\n",
       "      <th>Open_1yr</th>\n",
       "      <th>Open_2yr</th>\n",
       "      <th>Open_3yr</th>\n",
       "      <th>Open_5yr</th>\n",
       "      <th>Open_7yr</th>\n",
       "      <th>Open_10yr</th>\n",
       "    </tr>\n",
       "  </thead>\n",
       "  <tbody>\n",
       "    <tr>\n",
       "      <th>3328</th>\n",
       "      <td>2009-06-24</td>\n",
       "      <td>2009-12-21</td>\n",
       "      <td>2010-06-24</td>\n",
       "      <td>2011-06-24</td>\n",
       "      <td>2012-06-24</td>\n",
       "      <td>2014-06-24</td>\n",
       "      <td>2016-06-24</td>\n",
       "      <td>2019-06-24</td>\n",
       "      <td>25.58</td>\n",
       "      <td>25.58</td>\n",
       "      <td>33.44</td>\n",
       "      <td>36.34</td>\n",
       "      <td>40.23</td>\n",
       "      <td>41.40</td>\n",
       "      <td>42.37</td>\n",
       "    </tr>\n",
       "    <tr>\n",
       "      <th>3327</th>\n",
       "      <td>2009-06-25</td>\n",
       "      <td>2009-12-22</td>\n",
       "      <td>2010-06-25</td>\n",
       "      <td>2011-06-25</td>\n",
       "      <td>2012-06-25</td>\n",
       "      <td>2014-06-25</td>\n",
       "      <td>2016-06-25</td>\n",
       "      <td>2019-06-25</td>\n",
       "      <td>27.46</td>\n",
       "      <td>27.46</td>\n",
       "      <td>35.91</td>\n",
       "      <td>39.02</td>\n",
       "      <td>43.20</td>\n",
       "      <td>43.41</td>\n",
       "      <td>43.90</td>\n",
       "    </tr>\n",
       "    <tr>\n",
       "      <th>3326</th>\n",
       "      <td>2009-06-26</td>\n",
       "      <td>2009-12-23</td>\n",
       "      <td>2010-06-26</td>\n",
       "      <td>2011-06-26</td>\n",
       "      <td>2012-06-26</td>\n",
       "      <td>2014-06-26</td>\n",
       "      <td>2016-06-26</td>\n",
       "      <td>2019-06-26</td>\n",
       "      <td>24.61</td>\n",
       "      <td>24.61</td>\n",
       "      <td>32.19</td>\n",
       "      <td>34.98</td>\n",
       "      <td>38.72</td>\n",
       "      <td>39.24</td>\n",
       "      <td>39.86</td>\n",
       "    </tr>\n",
       "    <tr>\n",
       "      <th>3325</th>\n",
       "      <td>2009-06-29</td>\n",
       "      <td>2009-12-26</td>\n",
       "      <td>2010-06-29</td>\n",
       "      <td>2011-06-29</td>\n",
       "      <td>2012-06-29</td>\n",
       "      <td>2014-06-29</td>\n",
       "      <td>2016-06-29</td>\n",
       "      <td>2019-06-29</td>\n",
       "      <td>23.78</td>\n",
       "      <td>23.78</td>\n",
       "      <td>31.13</td>\n",
       "      <td>33.82</td>\n",
       "      <td>37.44</td>\n",
       "      <td>37.52</td>\n",
       "      <td>37.89</td>\n",
       "    </tr>\n",
       "    <tr>\n",
       "      <th>3324</th>\n",
       "      <td>2009-06-30</td>\n",
       "      <td>2009-12-27</td>\n",
       "      <td>2010-06-30</td>\n",
       "      <td>2011-06-30</td>\n",
       "      <td>2012-06-30</td>\n",
       "      <td>2014-06-30</td>\n",
       "      <td>2016-06-30</td>\n",
       "      <td>2019-06-30</td>\n",
       "      <td>21.95</td>\n",
       "      <td>21.95</td>\n",
       "      <td>28.80</td>\n",
       "      <td>31.30</td>\n",
       "      <td>34.68</td>\n",
       "      <td>35.34</td>\n",
       "      <td>36.00</td>\n",
       "    </tr>\n",
       "  </tbody>\n",
       "</table>\n",
       "</div>"
      ],
      "text/plain": [
       "     Settlement Date Maturity_6m Maturity_1yr Maturity_2yr Maturity_3yr  \\\n",
       "3328      2009-06-24  2009-12-21   2010-06-24   2011-06-24   2012-06-24   \n",
       "3327      2009-06-25  2009-12-22   2010-06-25   2011-06-25   2012-06-25   \n",
       "3326      2009-06-26  2009-12-23   2010-06-26   2011-06-26   2012-06-26   \n",
       "3325      2009-06-29  2009-12-26   2010-06-29   2011-06-29   2012-06-29   \n",
       "3324      2009-06-30  2009-12-27   2010-06-30   2011-06-30   2012-06-30   \n",
       "\n",
       "     Maturity_5yr Maturity_7yr Maturity_10yr  Open_6m  Open_1yr  Open_2yr  \\\n",
       "3328   2014-06-24   2016-06-24    2019-06-24    25.58     25.58     33.44   \n",
       "3327   2014-06-25   2016-06-25    2019-06-25    27.46     27.46     35.91   \n",
       "3326   2014-06-26   2016-06-26    2019-06-26    24.61     24.61     32.19   \n",
       "3325   2014-06-29   2016-06-29    2019-06-29    23.78     23.78     31.13   \n",
       "3324   2014-06-30   2016-06-30    2019-06-30    21.95     21.95     28.80   \n",
       "\n",
       "      Open_3yr  Open_5yr  Open_7yr  Open_10yr  \n",
       "3328     36.34     40.23     41.40      42.37  \n",
       "3327     39.02     43.20     43.41      43.90  \n",
       "3326     34.98     38.72     39.24      39.86  \n",
       "3325     33.82     37.44     37.52      37.89  \n",
       "3324     31.30     34.68     35.34      36.00  "
      ]
     },
     "execution_count": 32,
     "metadata": {},
     "output_type": "execute_result"
    }
   ],
   "source": [
    "cds.head()"
   ]
  },
  {
   "cell_type": "code",
   "execution_count": 7,
   "metadata": {},
   "outputs": [],
   "source": [
    "cds = cds [['Settlement Date', 'Maturity_6m', 'Maturity_1yr',\n",
    "       'Maturity_2yr', 'Maturity_3yr', 'Maturity_5yr', 'Maturity_7yr',\n",
    "       'Maturity_10yr', 'Open_6m', 'Open_1yr', 'Open_2yr', 'Open_3yr',\n",
    "       'Open_5yr', 'Open_7yr', 'Open_10yr']]"
   ]
  },
  {
   "cell_type": "markdown",
   "metadata": {},
   "source": [
    "## Discount factor file processing"
   ]
  },
  {
   "cell_type": "code",
   "execution_count": 8,
   "metadata": {},
   "outputs": [],
   "source": [
    "discount = pd.read_csv('discount_factors.csv')\n",
    "discount = discount.rename(columns={'dates':'Date'})\n",
    "discount['Date'] = pd.to_datetime(discount['Date'])\n",
    "discount = discount.set_index('Date')"
   ]
  },
  {
   "cell_type": "code",
   "execution_count": 9,
   "metadata": {},
   "outputs": [],
   "source": [
    "rate = discount.applymap(lambda x : -np.log(x))"
   ]
  },
  {
   "cell_type": "code",
   "execution_count": 10,
   "metadata": {},
   "outputs": [],
   "source": [
    "mths = np.array([1/12, 3/12, 1/2, 9/12])\n",
    "yrs = np.arange(1, 31, 1)\n",
    "time_periods = np.append(mths, yrs)"
   ]
  },
  {
   "cell_type": "code",
   "execution_count": 11,
   "metadata": {},
   "outputs": [],
   "source": [
    "for i, val in enumerate(time_periods):\n",
    "    rate.iloc[:, i] = rate.iloc[:, i]/val\n",
    "rate = rate.reset_index()"
   ]
  },
  {
   "cell_type": "code",
   "execution_count": 12,
   "metadata": {},
   "outputs": [],
   "source": [
    "rate['Maturity_1m'] = rate['Date'] + pd.DateOffset(months = 1)\n",
    "rate['Maturity_3m'] = rate['Date'] + pd.DateOffset(months = 3)\n",
    "rate['Maturity_6m'] = rate['Date'] + pd.DateOffset(months = 6)\n",
    "rate['Maturity_9m'] = rate['Date'] + pd.DateOffset(months = 9)\n",
    "rate['Maturity_1yr'] = rate['Date'] + pd.DateOffset(years =1)\n",
    "rate['Maturity_2yr'] = rate['Date'] + pd.DateOffset(years =2)\n",
    "rate['Maturity_3yr'] = rate['Date'] + pd.DateOffset(years =3)\n",
    "rate['Maturity_4yr'] = rate['Date'] + pd.DateOffset(years =4)\n",
    "rate['Maturity_5yr'] = rate['Date'] + pd.DateOffset(years =5)\n",
    "rate['Maturity_6yr'] = rate['Date'] + pd.DateOffset(years =6)\n",
    "rate['Maturity_7yr'] = rate['Date'] + pd.DateOffset(years =7)\n",
    "rate['Maturity_8yr'] = rate['Date'] + pd.DateOffset(years =8)\n",
    "rate['Maturity_9yr'] = rate['Date'] + pd.DateOffset(years =9)\n",
    "rate['Maturity_10yr'] = rate['Date'] + pd.DateOffset(years =10)\n",
    "rate['Maturity_11yr'] = rate['Date'] + pd.DateOffset(years =11)"
   ]
  },
  {
   "cell_type": "code",
   "execution_count": 13,
   "metadata": {},
   "outputs": [],
   "source": [
    "rate = rate[['Date', 'Maturity_1m', 'Maturity_3m', 'Maturity_6m',\n",
    "       'Maturity_9m', 'Maturity_1yr', 'Maturity_2yr', 'Maturity_3yr',\n",
    "       'Maturity_4yr', 'Maturity_5yr', 'Maturity_6yr', 'Maturity_7yr',\n",
    "       'Maturity_8yr', 'Maturity_9yr', 'Maturity_10yr', 'Maturity_11yr', '1m', '3m', '6m', '9m', '12m', '2y', '3y', '4y', '5y', '6y',\n",
    "       '7y', '8y', '9y', '10y', '11y' ]]"
   ]
  },
  {
   "cell_type": "code",
   "execution_count": 14,
   "metadata": {},
   "outputs": [],
   "source": [
    "common_dates = [x for x in rate.Date if x in list(cds['Settlement Date'])]"
   ]
  },
  {
   "cell_type": "code",
   "execution_count": 20,
   "metadata": {},
   "outputs": [],
   "source": [
    "discount = discount.reset_index()"
   ]
  },
  {
   "cell_type": "code",
   "execution_count": 30,
   "metadata": {},
   "outputs": [],
   "source": [
    "rate = rate[rate['Date'].isin(common_dates)]\n",
    "cds = cds[cds['Settlement Date'].isin(common_dates)]\n",
    "df_common = discount[discount['Date'].isin(common_dates)]"
   ]
  },
  {
   "cell_type": "markdown",
   "metadata": {},
   "source": [
    "### Write files to csv"
   ]
  },
  {
   "cell_type": "code",
   "execution_count": 26,
   "metadata": {},
   "outputs": [],
   "source": [
    "rate.to_csv('interest_rates_from_df.csv', index=False)\n",
    "cds.to_csv(\"./cds_data_processed.csv\", index=False)\n",
    "df_common.to_csv('./discount_factor_common_dates.csv', index = False)"
   ]
  },
  {
   "cell_type": "code",
   "execution_count": 28,
   "metadata": {},
   "outputs": [],
   "source": [
    "cds.sort_values(by = 'Settlement Date', inplace=True)"
   ]
  },
  {
   "cell_type": "code",
   "execution_count": 31,
   "metadata": {},
   "outputs": [
    {
     "data": {
      "text/html": [
       "<div>\n",
       "<style scoped>\n",
       "    .dataframe tbody tr th:only-of-type {\n",
       "        vertical-align: middle;\n",
       "    }\n",
       "\n",
       "    .dataframe tbody tr th {\n",
       "        vertical-align: top;\n",
       "    }\n",
       "\n",
       "    .dataframe thead th {\n",
       "        text-align: right;\n",
       "    }\n",
       "</style>\n",
       "<table border=\"1\" class=\"dataframe\">\n",
       "  <thead>\n",
       "    <tr style=\"text-align: right;\">\n",
       "      <th></th>\n",
       "      <th>Settlement Date</th>\n",
       "      <th>Maturity_6m</th>\n",
       "      <th>Maturity_1yr</th>\n",
       "      <th>Maturity_2yr</th>\n",
       "      <th>Maturity_3yr</th>\n",
       "      <th>Maturity_5yr</th>\n",
       "      <th>Maturity_7yr</th>\n",
       "      <th>Maturity_10yr</th>\n",
       "      <th>Open_6m</th>\n",
       "      <th>Open_1yr</th>\n",
       "      <th>Open_2yr</th>\n",
       "      <th>Open_3yr</th>\n",
       "      <th>Open_5yr</th>\n",
       "      <th>Open_7yr</th>\n",
       "      <th>Open_10yr</th>\n",
       "    </tr>\n",
       "  </thead>\n",
       "  <tbody>\n",
       "    <tr>\n",
       "      <th>3328</th>\n",
       "      <td>2009-06-24</td>\n",
       "      <td>2009-12-21</td>\n",
       "      <td>2010-06-24</td>\n",
       "      <td>2011-06-24</td>\n",
       "      <td>2012-06-24</td>\n",
       "      <td>2014-06-24</td>\n",
       "      <td>2016-06-24</td>\n",
       "      <td>2019-06-24</td>\n",
       "      <td>25.58</td>\n",
       "      <td>25.58</td>\n",
       "      <td>33.44</td>\n",
       "      <td>36.34</td>\n",
       "      <td>40.23</td>\n",
       "      <td>41.40</td>\n",
       "      <td>42.37</td>\n",
       "    </tr>\n",
       "    <tr>\n",
       "      <th>3327</th>\n",
       "      <td>2009-06-25</td>\n",
       "      <td>2009-12-22</td>\n",
       "      <td>2010-06-25</td>\n",
       "      <td>2011-06-25</td>\n",
       "      <td>2012-06-25</td>\n",
       "      <td>2014-06-25</td>\n",
       "      <td>2016-06-25</td>\n",
       "      <td>2019-06-25</td>\n",
       "      <td>27.46</td>\n",
       "      <td>27.46</td>\n",
       "      <td>35.91</td>\n",
       "      <td>39.02</td>\n",
       "      <td>43.20</td>\n",
       "      <td>43.41</td>\n",
       "      <td>43.90</td>\n",
       "    </tr>\n",
       "    <tr>\n",
       "      <th>3326</th>\n",
       "      <td>2009-06-26</td>\n",
       "      <td>2009-12-23</td>\n",
       "      <td>2010-06-26</td>\n",
       "      <td>2011-06-26</td>\n",
       "      <td>2012-06-26</td>\n",
       "      <td>2014-06-26</td>\n",
       "      <td>2016-06-26</td>\n",
       "      <td>2019-06-26</td>\n",
       "      <td>24.61</td>\n",
       "      <td>24.61</td>\n",
       "      <td>32.19</td>\n",
       "      <td>34.98</td>\n",
       "      <td>38.72</td>\n",
       "      <td>39.24</td>\n",
       "      <td>39.86</td>\n",
       "    </tr>\n",
       "    <tr>\n",
       "      <th>3325</th>\n",
       "      <td>2009-06-29</td>\n",
       "      <td>2009-12-26</td>\n",
       "      <td>2010-06-29</td>\n",
       "      <td>2011-06-29</td>\n",
       "      <td>2012-06-29</td>\n",
       "      <td>2014-06-29</td>\n",
       "      <td>2016-06-29</td>\n",
       "      <td>2019-06-29</td>\n",
       "      <td>23.78</td>\n",
       "      <td>23.78</td>\n",
       "      <td>31.13</td>\n",
       "      <td>33.82</td>\n",
       "      <td>37.44</td>\n",
       "      <td>37.52</td>\n",
       "      <td>37.89</td>\n",
       "    </tr>\n",
       "    <tr>\n",
       "      <th>3324</th>\n",
       "      <td>2009-06-30</td>\n",
       "      <td>2009-12-27</td>\n",
       "      <td>2010-06-30</td>\n",
       "      <td>2011-06-30</td>\n",
       "      <td>2012-06-30</td>\n",
       "      <td>2014-06-30</td>\n",
       "      <td>2016-06-30</td>\n",
       "      <td>2019-06-30</td>\n",
       "      <td>21.95</td>\n",
       "      <td>21.95</td>\n",
       "      <td>28.80</td>\n",
       "      <td>31.30</td>\n",
       "      <td>34.68</td>\n",
       "      <td>35.34</td>\n",
       "      <td>36.00</td>\n",
       "    </tr>\n",
       "  </tbody>\n",
       "</table>\n",
       "</div>"
      ],
      "text/plain": [
       "     Settlement Date Maturity_6m Maturity_1yr Maturity_2yr Maturity_3yr  \\\n",
       "3328      2009-06-24  2009-12-21   2010-06-24   2011-06-24   2012-06-24   \n",
       "3327      2009-06-25  2009-12-22   2010-06-25   2011-06-25   2012-06-25   \n",
       "3326      2009-06-26  2009-12-23   2010-06-26   2011-06-26   2012-06-26   \n",
       "3325      2009-06-29  2009-12-26   2010-06-29   2011-06-29   2012-06-29   \n",
       "3324      2009-06-30  2009-12-27   2010-06-30   2011-06-30   2012-06-30   \n",
       "\n",
       "     Maturity_5yr Maturity_7yr Maturity_10yr  Open_6m  Open_1yr  Open_2yr  \\\n",
       "3328   2014-06-24   2016-06-24    2019-06-24    25.58     25.58     33.44   \n",
       "3327   2014-06-25   2016-06-25    2019-06-25    27.46     27.46     35.91   \n",
       "3326   2014-06-26   2016-06-26    2019-06-26    24.61     24.61     32.19   \n",
       "3325   2014-06-29   2016-06-29    2019-06-29    23.78     23.78     31.13   \n",
       "3324   2014-06-30   2016-06-30    2019-06-30    21.95     21.95     28.80   \n",
       "\n",
       "      Open_3yr  Open_5yr  Open_7yr  Open_10yr  \n",
       "3328     36.34     40.23     41.40      42.37  \n",
       "3327     39.02     43.20     43.41      43.90  \n",
       "3326     34.98     38.72     39.24      39.86  \n",
       "3325     33.82     37.44     37.52      37.89  \n",
       "3324     31.30     34.68     35.34      36.00  "
      ]
     },
     "execution_count": 31,
     "metadata": {},
     "output_type": "execute_result"
    }
   ],
   "source": [
    "cds.head()"
   ]
  },
  {
   "cell_type": "code",
   "execution_count": null,
   "metadata": {},
   "outputs": [],
   "source": []
  }
 ],
 "metadata": {
  "interpreter": {
   "hash": "48a2327c44ffb9a72cf89db1037efed23f579a37346c6adecb7528251a1c2964"
  },
  "kernelspec": {
   "display_name": "Python 3.9.7 ('qcf')",
   "language": "python",
   "name": "python3"
  },
  "language_info": {
   "codemirror_mode": {
    "name": "ipython",
    "version": 3
   },
   "file_extension": ".py",
   "mimetype": "text/x-python",
   "name": "python",
   "nbconvert_exporter": "python",
   "pygments_lexer": "ipython3",
   "version": "3.9.7"
  },
  "orig_nbformat": 4
 },
 "nbformat": 4,
 "nbformat_minor": 2
}
