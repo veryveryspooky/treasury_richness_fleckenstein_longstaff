{
 "cells": [
  {
   "cell_type": "code",
   "execution_count": 2,
   "metadata": {},
   "outputs": [],
   "source": [
    "import numpy as np\n",
    "import pandas as pd"
   ]
  },
  {
   "cell_type": "markdown",
   "metadata": {},
   "source": [
    "Read CDS data"
   ]
  },
  {
   "cell_type": "code",
   "execution_count": 12,
   "metadata": {},
   "outputs": [],
   "source": [
    "cds_6m = pd.read_excel('cds.xlsx', sheet_name='6mth').dropna(axis= 0, how='all')\n",
    "cds_1yr = pd.read_excel('cds.xlsx', sheet_name='1yr').dropna(axis= 0, how='all')\n",
    "cds_2yr  = pd.read_excel('cds.xlsx', sheet_name='2yr').dropna(axis= 0, how='all')\n",
    "cds_3yr = pd.read_excel('cds.xlsx', sheet_name='3yr').dropna(axis= 0, how='all')\n",
    "cds_5yr = pd.read_excel('cds.xlsx', sheet_name='5yr').dropna(axis= 0, how='all')\n",
    "cds_7r  = pd.read_excel('cds.xlsx', sheet_name='7yr').dropna(axis= 0, how='all')\n",
    "cds_10yr  = pd.read_excel('cds.xlsx', sheet_name='10yr').dropna(axis= 0, how='all')\n",
    "cds_15yr = pd.read_excel('cds.xlsx', sheet_name='15yr').dropna(axis= 0, how='all')\n",
    "cds_20yr  = pd.read_excel('cds.xlsx', sheet_name='20yr').dropna(axis= 0, how='all')\n",
    "cds_30yr  = pd.read_excel('cds.xlsx', sheet_name='30yr').dropna(axis= 0, how='all')\n"
   ]
  },
  {
   "cell_type": "code",
   "execution_count": null,
   "metadata": {},
   "outputs": [],
   "source": []
  }
 ],
 "metadata": {
  "interpreter": {
   "hash": "48a2327c44ffb9a72cf89db1037efed23f579a37346c6adecb7528251a1c2964"
  },
  "kernelspec": {
   "display_name": "Python 3.9.7 ('qcf')",
   "language": "python",
   "name": "python3"
  },
  "language_info": {
   "codemirror_mode": {
    "name": "ipython",
    "version": 3
   },
   "file_extension": ".py",
   "mimetype": "text/x-python",
   "name": "python",
   "nbconvert_exporter": "python",
   "pygments_lexer": "ipython3",
   "version": "3.9.7"
  },
  "orig_nbformat": 4
 },
 "nbformat": 4,
 "nbformat_minor": 2
}
