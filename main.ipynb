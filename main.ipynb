{
 "cells": [
  {
   "cell_type": "code",
   "execution_count": 43,
   "metadata": {},
   "outputs": [],
   "source": [
    "import numpy as np\n",
    "import pandas as pd\n",
    "import matplotlib.pyplot as plt\n",
    "from datetime import timedelta"
   ]
  },
  {
   "cell_type": "markdown",
   "metadata": {},
   "source": [
    "Read CDS data"
   ]
  },
  {
   "cell_type": "code",
   "execution_count": 23,
   "metadata": {},
   "outputs": [],
   "source": [
    "cds_6m = pd.read_excel('cds.xlsx', sheet_name='6mth').dropna(axis= 0, how='all').add_suffix('_6m')[['Date_6m', 'Open_6m']]\n",
    "cds_1yr = pd.read_excel('cds.xlsx', sheet_name='1yr').dropna(axis= 0, how='all').add_suffix('_1yr')[['Date_1yr', 'Open_1yr']]\n",
    "cds_2yr  = pd.read_excel('cds.xlsx', sheet_name='2yr').dropna(axis= 0, how='all').add_suffix('_2yr')[['Date_2yr', 'Open_2yr']]\n",
    "cds_3yr = pd.read_excel('cds.xlsx', sheet_name='3yr').dropna(axis= 0, how='all').add_suffix('_3yr')[['Date_3yr', 'Open_3yr']]\n",
    "cds_5yr = pd.read_excel('cds.xlsx', sheet_name='5yr').dropna(axis= 0, how='all').add_suffix('_5yr')[['Date_5yr', 'Open_5yr']]\n",
    "cds_7yr  = pd.read_excel('cds.xlsx', sheet_name='7yr').dropna(axis= 0, how='all').add_suffix('_7yr')[['Date_7yr', 'Open_7yr']]\n",
    "cds_10yr  = pd.read_excel('cds.xlsx', sheet_name='10yr').dropna(axis= 0, how='all').add_suffix('_10yr')[['Date_10yr', 'Open_10yr']]\n",
    "cds_15yr = pd.read_excel('cds.xlsx', sheet_name='15yr').dropna(axis= 0, how='all').add_suffix('_15yr')[['Date_15yr', 'Open_15yr']]\n",
    "cds_20yr  = pd.read_excel('cds.xlsx', sheet_name='20yr').dropna(axis= 0, how='all').add_suffix('_20yr')[['Date_20yr', 'Open_20yr']]\n",
    "cds_30yr  = pd.read_excel('cds.xlsx', sheet_name='30yr').dropna(axis= 0, how='all').add_suffix('_30yr')[['Date_30yr', 'Open_30yr']]"
   ]
  },
  {
   "cell_type": "code",
   "execution_count": 40,
   "metadata": {},
   "outputs": [],
   "source": [
    "cds = cds_6m.merge(cds_1yr, left_on='Date_6m', right_on= 'Date_1yr', how='inner', copy = False).merge(cds_2yr, left_on='Date_6m', right_on= 'Date_2yr', how='inner', copy = False).merge(cds_3yr, left_on='Date_6m', right_on= 'Date_3yr', how='inner', copy = False).merge(cds_5yr, left_on='Date_6m', right_on= 'Date_5yr', how='inner', copy = False).merge(cds_7yr, left_on='Date_6m', right_on= 'Date_7yr', how='inner', copy = False).merge(cds_10yr, left_on='Date_6m', right_on= 'Date_10yr', how='inner', copy = False)"
   ]
  },
  {
   "cell_type": "code",
   "execution_count": 41,
   "metadata": {},
   "outputs": [],
   "source": [
    "cds = cds[cds['Date_6m'] < '2022-04-01']\n",
    "cds = cds.drop(columns=['Date_1yr', 'Date_2yr', 'Date_3yr', 'Date_5yr', 'Date_7yr', 'Date_10yr'])\n",
    "cds = cds.rename(columns={'Date_6m':'Settlement Date'})"
   ]
  },
  {
   "cell_type": "code",
   "execution_count": 49,
   "metadata": {},
   "outputs": [],
   "source": [
    "cds['Maturity_6m'] = cds['Settlement Date'] + pd.DateOffset(days = 180)\n",
    "cds['Maturity_1yr'] = cds['Settlement Date'] + pd.DateOffset(years =1)\n",
    "cds['Maturity_2yr'] = cds['Settlement Date'] + pd.DateOffset(years =2)\n",
    "cds['Maturity_3yr'] = cds['Settlement Date'] + pd.DateOffset(years =3)\n",
    "cds['Maturity_5yr'] = cds['Settlement Date'] + pd.DateOffset(years =5)\n",
    "cds['Maturity_7yr'] = cds['Settlement Date'] + pd.DateOffset(years =7)\n",
    "cds['Maturity_10yr'] = cds['Settlement Date'] + pd.DateOffset(years =10)\n"
   ]
  },
  {
   "cell_type": "code",
   "execution_count": 53,
   "metadata": {},
   "outputs": [],
   "source": [
    "cds.to_excel('cds_data_processed.xlsx')"
   ]
  }
 ],
 "metadata": {
  "interpreter": {
   "hash": "48a2327c44ffb9a72cf89db1037efed23f579a37346c6adecb7528251a1c2964"
  },
  "kernelspec": {
   "display_name": "Python 3.9.7 ('qcf')",
   "language": "python",
   "name": "python3"
  },
  "language_info": {
   "codemirror_mode": {
    "name": "ipython",
    "version": 3
   },
   "file_extension": ".py",
   "mimetype": "text/x-python",
   "name": "python",
   "nbconvert_exporter": "python",
   "pygments_lexer": "ipython3",
   "version": "3.9.7"
  },
  "orig_nbformat": 4
 },
 "nbformat": 4,
 "nbformat_minor": 2
}
