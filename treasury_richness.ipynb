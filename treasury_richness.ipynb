{
 "cells": [
  {
   "cell_type": "code",
   "execution_count": 14,
   "metadata": {},
   "outputs": [],
   "source": [
    "import pandas as pd\n",
    "import numpy as np\n",
    "from scipy.interpolate import interp1d\n",
    "import scipy.integrate as integrate"
   ]
  },
  {
   "cell_type": "code",
   "execution_count": 28,
   "metadata": {},
   "outputs": [],
   "source": [
    "hazard_rates = pd.read_csv('hazard_rates.csv')\n",
    "hazard_rates.sort_values(by = 'SettlementDate', inplace=True)\n",
    "hazard_rates.reset_index(inplace=True, drop=True)\n",
    "\n",
    "discount_factors = pd.read_csv('discount_factor_common_dates.csv')\n",
    "discount_factors = discount_factors.set_index('Date')\n",
    "dfc = discount_factors.columns\n",
    "discount_factors['zero'] = 1\n",
    "discount_factors = discount_factors[np.append('zero', dfc )]\n",
    "discount_factors.sort_values(by = 'Date', inplace=True)\n",
    "discount_factors.reset_index(inplace=True)\n",
    "\n",
    "coupons = pd.read_excel('treasury_bond_note_coupons.xlsx')\n",
    "\n",
    "cds = pd.read_csv('cds_data_processed.csv')\n",
    "cds.sort_values(by = 'Settlement Date', inplace=True)\n",
    "cds.reset_index(inplace=True, drop=True)\n"
   ]
  },
  {
   "cell_type": "code",
   "execution_count": 30,
   "metadata": {},
   "outputs": [],
   "source": [
    "mean_coupons = coupons.groupby('Tenor').mean().reset_index()"
   ]
  },
  {
   "cell_type": "code",
   "execution_count": 31,
   "metadata": {},
   "outputs": [],
   "source": [
    "cds['Open_6m'] = cds['Open_6m']/100\n",
    "cds['Open_1yr'] = cds['Open_1yr']/100\n",
    "cds['Open_2yr'] = mean_coupons[mean_coupons['Tenor'] == 2]['Cpn'].values[0] - cds['Open_2yr']/100\n",
    "cds['Open_3yr'] = mean_coupons[mean_coupons['Tenor'] == 3]['Cpn'].values[0] - cds['Open_3yr']/100\n",
    "cds['Open_3yr'] = mean_coupons[mean_coupons['Tenor'] == 5]['Cpn'].values[0] - cds['Open_5yr']/100\n",
    "cds['Open_3yr'] = mean_coupons[mean_coupons['Tenor'] == 7]['Cpn'].values[0] - cds['Open_7yr']/100\n",
    "cds['Open_3yr'] = mean_coupons[mean_coupons['Tenor'] == 10]['Cpn'].values[0] - cds['Open_10yr']/100"
   ]
  },
  {
   "cell_type": "code",
   "execution_count": 32,
   "metadata": {},
   "outputs": [],
   "source": [
    "time_periods_m = np.array([0, 1/12,3/12, 6/12, 9/12, 1])\n",
    "time_periods_y = np.arange(2, 31, 1)\n",
    "time_periods = np.append(time_periods_m, time_periods_y)"
   ]
  },
  {
   "cell_type": "code",
   "execution_count": 33,
   "metadata": {},
   "outputs": [],
   "source": [
    "discount_factors_funcs = discount_factors.apply(lambda row: interp1d(time_periods, row[1:], kind='cubic'), axis = 1)"
   ]
  },
  {
   "cell_type": "code",
   "execution_count": 34,
   "metadata": {},
   "outputs": [],
   "source": [
    "cds_time_periods = [0.5, 1, 2, 3, 5, 7, 10]"
   ]
  },
  {
   "cell_type": "code",
   "execution_count": 35,
   "metadata": {},
   "outputs": [],
   "source": [
    "discount_factors_subset_times = discount_factors.iloc[:, [4, 6, 7, 8,10,12,15]]\n",
    "cds_subset_times = cds.iloc[:, 8:]"
   ]
  },
  {
   "cell_type": "code",
   "execution_count": 36,
   "metadata": {},
   "outputs": [],
   "source": [
    "df_integrate = np.empty(shape =(cds.shape[0],len(cds_time_periods )))\n",
    "for i in range(discount_factors.shape[0]):\n",
    "    for j, val in enumerate(cds_time_periods):\n",
    "        df_integrate[i, j]  = integrate.quad(lambda x: discount_factors_funcs[i](x), 0,val)[0]"
   ]
  },
  {
   "cell_type": "code",
   "execution_count": 37,
   "metadata": {},
   "outputs": [],
   "source": [
    "hz_moded = hazard_rates.copy()\n",
    "hz_moded\n",
    "hz_moded['Maturity_6m'] = np.exp(-hz_moded['Maturity_6m']*0.5)\n",
    "hz_moded['Maturity_1yr'] = np.exp(-hz_moded['Maturity_1yr']*1)\n",
    "hz_moded['Maturity_2yr'] = np.exp(-hz_moded['Maturity_1yr']*2)\n",
    "hz_moded['Maturity_3yr'] = np.exp(-hz_moded['Maturity_1yr']*3)\n",
    "hz_moded['Maturity_5yr'] = np.exp(-hz_moded['Maturity_1yr']*5)\n",
    "hz_moded['Maturity_7yr'] = np.exp(-hz_moded['Maturity_1yr']*7)\n",
    "hz_moded['Maturity_10yr'] = np.exp(-hz_moded['Maturity_1yr']*10)\n"
   ]
  },
  {
   "cell_type": "code",
   "execution_count": 38,
   "metadata": {},
   "outputs": [],
   "source": [
    "hz_moded_subset_times = hz_moded.iloc[:, 1:]"
   ]
  },
  {
   "cell_type": "code",
   "execution_count": 39,
   "metadata": {},
   "outputs": [
    {
     "name": "stderr",
     "output_type": "stream",
     "text": [
      "/var/folders/34/gh568vr946d45y78dns07shm0000gn/T/ipykernel_49356/4021414376.py:1: FutureWarning: Calling a ufunc on non-aligned DataFrames (or DataFrame/Series combination). Currently, the indices are ignored and the result takes the index/columns of the first DataFrame. In the future , the DataFrames/Series will be aligned before applying the ufunc.\n",
      "Convert one of the arguments to a NumPy array (eg 'ufunc(df1, np.asarray(df2)') to keep the current behaviour, or align manually (eg 'df1, df2 = df1.align(df2)') before passing to the ufunc to obtain the future behaviour and silence this warning.\n",
      "  pt_2 = np.multiply(np.add(np.multiply(cds_subset_times, df_integrate), discount_factors_subset_times), hz_moded_subset_times)\n"
     ]
    }
   ],
   "source": [
    "pt_2 = np.multiply(np.add(np.multiply(cds_subset_times, df_integrate), discount_factors_subset_times), hz_moded_subset_times)"
   ]
  },
  {
   "cell_type": "code",
   "execution_count": null,
   "metadata": {},
   "outputs": [],
   "source": [
    "integrate.quad(lambda x: discount_factors_funcs[i](x), 0,val)[0]"
   ]
  },
  {
   "cell_type": "code",
   "execution_count": 41,
   "metadata": {},
   "outputs": [
    {
     "data": {
      "text/plain": [
       "46.555670494467975"
      ]
     },
     "execution_count": 41,
     "metadata": {},
     "output_type": "execute_result"
    }
   ],
   "source": [
    "integrate.quad(lambda t: integrate.quad(lambda x: discount_factors_funcs[i](x), 0,t)[0], 0, val)[0]"
   ]
  },
  {
   "cell_type": "code",
   "execution_count": 46,
   "metadata": {},
   "outputs": [
    {
     "data": {
      "text/html": [
       "<div>\n",
       "<style scoped>\n",
       "    .dataframe tbody tr th:only-of-type {\n",
       "        vertical-align: middle;\n",
       "    }\n",
       "\n",
       "    .dataframe tbody tr th {\n",
       "        vertical-align: top;\n",
       "    }\n",
       "\n",
       "    .dataframe thead th {\n",
       "        text-align: right;\n",
       "    }\n",
       "</style>\n",
       "<table border=\"1\" class=\"dataframe\">\n",
       "  <thead>\n",
       "    <tr style=\"text-align: right;\">\n",
       "      <th></th>\n",
       "      <th>Maturity_6m</th>\n",
       "      <th>Maturity_1yr</th>\n",
       "      <th>Maturity_2yr</th>\n",
       "      <th>Maturity_3yr</th>\n",
       "      <th>Maturity_5yr</th>\n",
       "      <th>Maturity_7yr</th>\n",
       "      <th>Maturity_10yr</th>\n",
       "    </tr>\n",
       "  </thead>\n",
       "  <tbody>\n",
       "    <tr>\n",
       "      <th>0</th>\n",
       "      <td>0.997844</td>\n",
       "      <td>0.995693</td>\n",
       "      <td>0.136506</td>\n",
       "      <td>0.050435</td>\n",
       "      <td>0.006885</td>\n",
       "      <td>0.000940</td>\n",
       "      <td>0.000047</td>\n",
       "    </tr>\n",
       "    <tr>\n",
       "      <th>1</th>\n",
       "      <td>0.998046</td>\n",
       "      <td>0.996095</td>\n",
       "      <td>0.136396</td>\n",
       "      <td>0.050374</td>\n",
       "      <td>0.006871</td>\n",
       "      <td>0.000937</td>\n",
       "      <td>0.000047</td>\n",
       "    </tr>\n",
       "    <tr>\n",
       "      <th>2</th>\n",
       "      <td>0.997952</td>\n",
       "      <td>0.995876</td>\n",
       "      <td>0.136456</td>\n",
       "      <td>0.050407</td>\n",
       "      <td>0.006878</td>\n",
       "      <td>0.000939</td>\n",
       "      <td>0.000047</td>\n",
       "    </tr>\n",
       "    <tr>\n",
       "      <th>3</th>\n",
       "      <td>0.999421</td>\n",
       "      <td>0.998842</td>\n",
       "      <td>0.135649</td>\n",
       "      <td>0.049960</td>\n",
       "      <td>0.006777</td>\n",
       "      <td>0.000919</td>\n",
       "      <td>0.000046</td>\n",
       "    </tr>\n",
       "    <tr>\n",
       "      <th>4</th>\n",
       "      <td>0.998551</td>\n",
       "      <td>0.996949</td>\n",
       "      <td>0.136164</td>\n",
       "      <td>0.050245</td>\n",
       "      <td>0.006842</td>\n",
       "      <td>0.000932</td>\n",
       "      <td>0.000047</td>\n",
       "    </tr>\n",
       "    <tr>\n",
       "      <th>...</th>\n",
       "      <td>...</td>\n",
       "      <td>...</td>\n",
       "      <td>...</td>\n",
       "      <td>...</td>\n",
       "      <td>...</td>\n",
       "      <td>...</td>\n",
       "      <td>...</td>\n",
       "    </tr>\n",
       "    <tr>\n",
       "      <th>3154</th>\n",
       "      <td>0.998657</td>\n",
       "      <td>0.997425</td>\n",
       "      <td>0.136034</td>\n",
       "      <td>0.050173</td>\n",
       "      <td>0.006825</td>\n",
       "      <td>0.000928</td>\n",
       "      <td>0.000047</td>\n",
       "    </tr>\n",
       "    <tr>\n",
       "      <th>3155</th>\n",
       "      <td>0.999384</td>\n",
       "      <td>0.998285</td>\n",
       "      <td>0.135800</td>\n",
       "      <td>0.050044</td>\n",
       "      <td>0.006796</td>\n",
       "      <td>0.000923</td>\n",
       "      <td>0.000046</td>\n",
       "    </tr>\n",
       "    <tr>\n",
       "      <th>3156</th>\n",
       "      <td>0.999352</td>\n",
       "      <td>0.998256</td>\n",
       "      <td>0.135808</td>\n",
       "      <td>0.050048</td>\n",
       "      <td>0.006797</td>\n",
       "      <td>0.000923</td>\n",
       "      <td>0.000046</td>\n",
       "    </tr>\n",
       "    <tr>\n",
       "      <th>3157</th>\n",
       "      <td>0.998980</td>\n",
       "      <td>0.997721</td>\n",
       "      <td>0.135954</td>\n",
       "      <td>0.050129</td>\n",
       "      <td>0.006815</td>\n",
       "      <td>0.000927</td>\n",
       "      <td>0.000046</td>\n",
       "    </tr>\n",
       "    <tr>\n",
       "      <th>3158</th>\n",
       "      <td>0.999381</td>\n",
       "      <td>0.998565</td>\n",
       "      <td>0.135724</td>\n",
       "      <td>0.050002</td>\n",
       "      <td>0.006786</td>\n",
       "      <td>0.000921</td>\n",
       "      <td>0.000046</td>\n",
       "    </tr>\n",
       "  </tbody>\n",
       "</table>\n",
       "<p>3159 rows × 7 columns</p>\n",
       "</div>"
      ],
      "text/plain": [
       "      Maturity_6m  Maturity_1yr  Maturity_2yr  Maturity_3yr  Maturity_5yr  \\\n",
       "0        0.997844      0.995693      0.136506      0.050435      0.006885   \n",
       "1        0.998046      0.996095      0.136396      0.050374      0.006871   \n",
       "2        0.997952      0.995876      0.136456      0.050407      0.006878   \n",
       "3        0.999421      0.998842      0.135649      0.049960      0.006777   \n",
       "4        0.998551      0.996949      0.136164      0.050245      0.006842   \n",
       "...           ...           ...           ...           ...           ...   \n",
       "3154     0.998657      0.997425      0.136034      0.050173      0.006825   \n",
       "3155     0.999384      0.998285      0.135800      0.050044      0.006796   \n",
       "3156     0.999352      0.998256      0.135808      0.050048      0.006797   \n",
       "3157     0.998980      0.997721      0.135954      0.050129      0.006815   \n",
       "3158     0.999381      0.998565      0.135724      0.050002      0.006786   \n",
       "\n",
       "      Maturity_7yr  Maturity_10yr  \n",
       "0         0.000940       0.000047  \n",
       "1         0.000937       0.000047  \n",
       "2         0.000939       0.000047  \n",
       "3         0.000919       0.000046  \n",
       "4         0.000932       0.000047  \n",
       "...            ...            ...  \n",
       "3154      0.000928       0.000047  \n",
       "3155      0.000923       0.000046  \n",
       "3156      0.000923       0.000046  \n",
       "3157      0.000927       0.000046  \n",
       "3158      0.000921       0.000046  \n",
       "\n",
       "[3159 rows x 7 columns]"
      ]
     },
     "execution_count": 46,
     "metadata": {},
     "output_type": "execute_result"
    }
   ],
   "source": [
    "hz_moded_subset_times"
   ]
  },
  {
   "cell_type": "code",
   "execution_count": null,
   "metadata": {},
   "outputs": [],
   "source": [
    "df_integrate_double = np.empty(shape =(cds.shape[0],len(cds_time_periods )))\n",
    "for i in range(discount_factors.shape[0]):\n",
    "    for j, val in enumerate(cds_time_periods):\n",
    "        df_integrate_double[i, j]  = integrate.quad(lambda t: hz_moded_subset_times[i,j] * np.exp(-hz_moded_subset_times[i,j]*t) * integrate.quad(lambda x: discount_factors_funcs[i](x), 0,t)[0] + discount_factors_funcs[i](t), 0, val)[0]"
   ]
  },
  {
   "cell_type": "code",
   "execution_count": 53,
   "metadata": {},
   "outputs": [],
   "source": [
    "df_integrate_double = np.empty(shape =(cds.shape[0],len(cds_time_periods )))\n",
    "for i in range(discount_factors.shape[0]):\n",
    "    for j, val in enumerate(cds_time_periods):\n",
    "        df_integrate_double[i,j] = integrate.quad(lambda t: hz_moded_subset_times.iloc[i,j] * np.exp(-hz_moded_subset_times.iloc[i,j]*t) * cds_subset_times.iloc[i,j]* integrate.quad(lambda x: discount_factors_funcs[i](x), 0,t)[0] + discount_factors_funcs[i](t), 0, val)[0]"
   ]
  },
  {
   "cell_type": "code",
   "execution_count": 52,
   "metadata": {},
   "outputs": [
    {
     "data": {
      "text/plain": [
       "array([[2.61911124e-314, 2.61911126e-314, 2.61911128e-314, ...,\n",
       "        2.61911131e-314, 2.61911132e-314, 2.61911134e-314],\n",
       "       [2.61911136e-314, 2.61911137e-314, 2.61911139e-314, ...,\n",
       "        2.61911142e-314, 2.61911143e-314, 2.61911145e-314],\n",
       "       [2.61911147e-314, 2.61911148e-314, 2.61911150e-314, ...,\n",
       "        2.61911153e-314, 2.61911155e-314, 2.61911156e-314],\n",
       "       ...,\n",
       "       [2.61847852e-314, 2.61847854e-314, 2.61847856e-314, ...,\n",
       "        2.61847859e-314, 2.61847860e-314, 2.61847862e-314],\n",
       "       [2.61847864e-314, 2.61847865e-314, 2.61847867e-314, ...,\n",
       "        2.61847870e-314, 2.61847871e-314, 2.61847873e-314],\n",
       "       [2.61847875e-314, 2.61847876e-314, 2.61847878e-314, ...,\n",
       "        2.61847881e-314, 2.61847882e-314, 2.61847884e-314]])"
      ]
     },
     "execution_count": 52,
     "metadata": {},
     "output_type": "execute_result"
    }
   ],
   "source": []
  }
 ],
 "metadata": {
  "interpreter": {
   "hash": "48a2327c44ffb9a72cf89db1037efed23f579a37346c6adecb7528251a1c2964"
  },
  "kernelspec": {
   "display_name": "Python 3.9.7 ('qcf')",
   "language": "python",
   "name": "python3"
  },
  "language_info": {
   "codemirror_mode": {
    "name": "ipython",
    "version": 3
   },
   "file_extension": ".py",
   "mimetype": "text/x-python",
   "name": "python",
   "nbconvert_exporter": "python",
   "pygments_lexer": "ipython3",
   "version": "3.9.7"
  },
  "orig_nbformat": 4
 },
 "nbformat": 4,
 "nbformat_minor": 2
}
