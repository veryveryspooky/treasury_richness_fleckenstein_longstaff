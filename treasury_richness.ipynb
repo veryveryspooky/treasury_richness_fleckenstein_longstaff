{
 "cells": [
  {
   "cell_type": "code",
   "execution_count": 56,
   "metadata": {},
   "outputs": [],
   "source": [
    "import pandas as pd\n",
    "import numpy as np\n",
    "from scipy.interpolate import interp1d\n",
    "import scipy.integrate as integrate"
   ]
  },
  {
   "cell_type": "code",
   "execution_count": 82,
   "metadata": {},
   "outputs": [],
   "source": [
    "hazard_rates = pd.read_csv('hazard_rates.csv')\n",
    "discount_factors = pd.read_csv('discount_factors.csv')\n",
    "discount_factors = discount_factors.set_index('dates')\n",
    "dfc = discount_factors.columns\n",
    "discount_factors['zero'] = 1\n",
    "discount_factors = discount_factors[np.append('zero', dfc )]\n",
    "coupons = pd.read_excel('treasury_bond_note_coupons.xlsx')\n",
    "cds = pd.read_csv('cds_data_processed.csv')\n",
    "discount_factors.reset_index(inplace=True)"
   ]
  },
  {
   "cell_type": "code",
   "execution_count": 83,
   "metadata": {},
   "outputs": [],
   "source": [
    "mean_coupons = coupons.groupby('Tenor').mean().reset_index()"
   ]
  },
  {
   "cell_type": "code",
   "execution_count": 84,
   "metadata": {},
   "outputs": [],
   "source": [
    "cds['Open_6m'] = cds['Open_6m']/100\n",
    "cds['Open_1yr'] = cds['Open_1yr']/100\n",
    "cds['Open_2yr'] = mean_coupons[mean_coupons['Tenor'] == 2]['Cpn'].values[0] - cds['Open_2yr']/100\n",
    "cds['Open_3yr'] = mean_coupons[mean_coupons['Tenor'] == 3]['Cpn'].values[0] - cds['Open_3yr']/100\n",
    "cds['Open_3yr'] = mean_coupons[mean_coupons['Tenor'] == 5]['Cpn'].values[0] - cds['Open_5yr']/100\n",
    "cds['Open_3yr'] = mean_coupons[mean_coupons['Tenor'] == 7]['Cpn'].values[0] - cds['Open_7yr']/100\n",
    "cds['Open_3yr'] = mean_coupons[mean_coupons['Tenor'] == 10]['Cpn'].values[0] - cds['Open_10yr']/100"
   ]
  },
  {
   "cell_type": "code",
   "execution_count": 85,
   "metadata": {},
   "outputs": [],
   "source": [
    "time_periods_m = np.array([0, 1/12,3/12, 6/12, 9/12, 1])\n",
    "time_periods_y = np.arange(2, 31, 1)\n",
    "time_periods = np.append(time_periods_m, time_periods_y)\n"
   ]
  },
  {
   "cell_type": "code",
   "execution_count": 86,
   "metadata": {},
   "outputs": [
    {
     "data": {
      "text/html": [
       "<div>\n",
       "<style scoped>\n",
       "    .dataframe tbody tr th:only-of-type {\n",
       "        vertical-align: middle;\n",
       "    }\n",
       "\n",
       "    .dataframe tbody tr th {\n",
       "        vertical-align: top;\n",
       "    }\n",
       "\n",
       "    .dataframe thead th {\n",
       "        text-align: right;\n",
       "    }\n",
       "</style>\n",
       "<table border=\"1\" class=\"dataframe\">\n",
       "  <thead>\n",
       "    <tr style=\"text-align: right;\">\n",
       "      <th></th>\n",
       "      <th>dates</th>\n",
       "      <th>zero</th>\n",
       "      <th>1m</th>\n",
       "      <th>3m</th>\n",
       "      <th>6m</th>\n",
       "      <th>9m</th>\n",
       "      <th>12m</th>\n",
       "      <th>2y</th>\n",
       "      <th>3y</th>\n",
       "      <th>4y</th>\n",
       "      <th>...</th>\n",
       "      <th>21y</th>\n",
       "      <th>22y</th>\n",
       "      <th>23y</th>\n",
       "      <th>24y</th>\n",
       "      <th>25y</th>\n",
       "      <th>26y</th>\n",
       "      <th>27y</th>\n",
       "      <th>28y</th>\n",
       "      <th>29y</th>\n",
       "      <th>30y</th>\n",
       "    </tr>\n",
       "  </thead>\n",
       "  <tbody>\n",
       "    <tr>\n",
       "      <th>0</th>\n",
       "      <td>2008-09-19</td>\n",
       "      <td>1</td>\n",
       "      <td>0.998385</td>\n",
       "      <td>0.995086</td>\n",
       "      <td>0.990174</td>\n",
       "      <td>0.984897</td>\n",
       "      <td>0.979345</td>\n",
       "      <td>0.951522</td>\n",
       "      <td>0.917024</td>\n",
       "      <td>0.880339</td>\n",
       "      <td>...</td>\n",
       "      <td>0.402284</td>\n",
       "      <td>0.386413</td>\n",
       "      <td>0.371267</td>\n",
       "      <td>0.356599</td>\n",
       "      <td>0.342169</td>\n",
       "      <td>0.327700</td>\n",
       "      <td>0.312925</td>\n",
       "      <td>0.297590</td>\n",
       "      <td>0.281410</td>\n",
       "      <td>0.264118</td>\n",
       "    </tr>\n",
       "    <tr>\n",
       "      <th>1</th>\n",
       "      <td>2008-09-25</td>\n",
       "      <td>1</td>\n",
       "      <td>0.998427</td>\n",
       "      <td>0.995413</td>\n",
       "      <td>0.990934</td>\n",
       "      <td>0.986135</td>\n",
       "      <td>0.980911</td>\n",
       "      <td>0.951436</td>\n",
       "      <td>0.914465</td>\n",
       "      <td>0.877125</td>\n",
       "      <td>...</td>\n",
       "      <td>0.402427</td>\n",
       "      <td>0.388342</td>\n",
       "      <td>0.374797</td>\n",
       "      <td>0.361392</td>\n",
       "      <td>0.347695</td>\n",
       "      <td>0.333278</td>\n",
       "      <td>0.317701</td>\n",
       "      <td>0.300480</td>\n",
       "      <td>0.281210</td>\n",
       "      <td>0.259418</td>\n",
       "    </tr>\n",
       "    <tr>\n",
       "      <th>2</th>\n",
       "      <td>2008-09-29</td>\n",
       "      <td>1</td>\n",
       "      <td>0.998616</td>\n",
       "      <td>0.996014</td>\n",
       "      <td>0.992124</td>\n",
       "      <td>0.988072</td>\n",
       "      <td>0.983554</td>\n",
       "      <td>0.959236</td>\n",
       "      <td>0.924501</td>\n",
       "      <td>0.888527</td>\n",
       "      <td>...</td>\n",
       "      <td>0.421357</td>\n",
       "      <td>0.405718</td>\n",
       "      <td>0.390869</td>\n",
       "      <td>0.376550</td>\n",
       "      <td>0.362489</td>\n",
       "      <td>0.348419</td>\n",
       "      <td>0.334048</td>\n",
       "      <td>0.319115</td>\n",
       "      <td>0.303289</td>\n",
       "      <td>0.286308</td>\n",
       "    </tr>\n",
       "    <tr>\n",
       "      <th>3</th>\n",
       "      <td>2008-09-30</td>\n",
       "      <td>1</td>\n",
       "      <td>0.998512</td>\n",
       "      <td>0.995585</td>\n",
       "      <td>0.991234</td>\n",
       "      <td>0.986540</td>\n",
       "      <td>0.981238</td>\n",
       "      <td>0.953419</td>\n",
       "      <td>0.917388</td>\n",
       "      <td>0.879978</td>\n",
       "      <td>...</td>\n",
       "      <td>0.407647</td>\n",
       "      <td>0.393056</td>\n",
       "      <td>0.379102</td>\n",
       "      <td>0.365474</td>\n",
       "      <td>0.351804</td>\n",
       "      <td>0.337713</td>\n",
       "      <td>0.322826</td>\n",
       "      <td>0.306770</td>\n",
       "      <td>0.289167</td>\n",
       "      <td>0.269649</td>\n",
       "    </tr>\n",
       "    <tr>\n",
       "      <th>4</th>\n",
       "      <td>2008-10-01</td>\n",
       "      <td>1</td>\n",
       "      <td>0.998562</td>\n",
       "      <td>0.995818</td>\n",
       "      <td>0.991765</td>\n",
       "      <td>0.987373</td>\n",
       "      <td>0.982202</td>\n",
       "      <td>0.954446</td>\n",
       "      <td>0.919233</td>\n",
       "      <td>0.882789</td>\n",
       "      <td>...</td>\n",
       "      <td>0.418106</td>\n",
       "      <td>0.403817</td>\n",
       "      <td>0.390128</td>\n",
       "      <td>0.376678</td>\n",
       "      <td>0.363109</td>\n",
       "      <td>0.349048</td>\n",
       "      <td>0.334131</td>\n",
       "      <td>0.317959</td>\n",
       "      <td>0.300130</td>\n",
       "      <td>0.280299</td>\n",
       "    </tr>\n",
       "  </tbody>\n",
       "</table>\n",
       "<p>5 rows × 36 columns</p>\n",
       "</div>"
      ],
      "text/plain": [
       "        dates  zero        1m        3m        6m        9m       12m  \\\n",
       "0  2008-09-19     1  0.998385  0.995086  0.990174  0.984897  0.979345   \n",
       "1  2008-09-25     1  0.998427  0.995413  0.990934  0.986135  0.980911   \n",
       "2  2008-09-29     1  0.998616  0.996014  0.992124  0.988072  0.983554   \n",
       "3  2008-09-30     1  0.998512  0.995585  0.991234  0.986540  0.981238   \n",
       "4  2008-10-01     1  0.998562  0.995818  0.991765  0.987373  0.982202   \n",
       "\n",
       "         2y        3y        4y  ...       21y       22y       23y       24y  \\\n",
       "0  0.951522  0.917024  0.880339  ...  0.402284  0.386413  0.371267  0.356599   \n",
       "1  0.951436  0.914465  0.877125  ...  0.402427  0.388342  0.374797  0.361392   \n",
       "2  0.959236  0.924501  0.888527  ...  0.421357  0.405718  0.390869  0.376550   \n",
       "3  0.953419  0.917388  0.879978  ...  0.407647  0.393056  0.379102  0.365474   \n",
       "4  0.954446  0.919233  0.882789  ...  0.418106  0.403817  0.390128  0.376678   \n",
       "\n",
       "        25y       26y       27y       28y       29y       30y  \n",
       "0  0.342169  0.327700  0.312925  0.297590  0.281410  0.264118  \n",
       "1  0.347695  0.333278  0.317701  0.300480  0.281210  0.259418  \n",
       "2  0.362489  0.348419  0.334048  0.319115  0.303289  0.286308  \n",
       "3  0.351804  0.337713  0.322826  0.306770  0.289167  0.269649  \n",
       "4  0.363109  0.349048  0.334131  0.317959  0.300130  0.280299  \n",
       "\n",
       "[5 rows x 36 columns]"
      ]
     },
     "execution_count": 86,
     "metadata": {},
     "output_type": "execute_result"
    }
   ],
   "source": [
    "discount_factors.head()"
   ]
  },
  {
   "cell_type": "code",
   "execution_count": 87,
   "metadata": {},
   "outputs": [],
   "source": [
    "discount_factors_funcs = discount_factors.apply(lambda row: interp1d(time_periods, row[1:], kind='cubic'), axis = 1)"
   ]
  },
  {
   "cell_type": "code",
   "execution_count": 91,
   "metadata": {},
   "outputs": [
    {
     "data": {
      "text/plain": [
       "(3356,)"
      ]
     },
     "execution_count": 91,
     "metadata": {},
     "output_type": "execute_result"
    }
   ],
   "source": []
  },
  {
   "cell_type": "code",
   "execution_count": 90,
   "metadata": {},
   "outputs": [
    {
     "data": {
      "text/plain": [
       "0.4975495519485934"
      ]
     },
     "execution_count": 90,
     "metadata": {},
     "output_type": "execute_result"
    }
   ],
   "source": [
    "\n",
    "integrate.quad(lambda x: discount_factors_funcs[0](x), 0, 0.5)[0]"
   ]
  },
  {
   "cell_type": "code",
   "execution_count": null,
   "metadata": {},
   "outputs": [],
   "source": []
  }
 ],
 "metadata": {
  "interpreter": {
   "hash": "48a2327c44ffb9a72cf89db1037efed23f579a37346c6adecb7528251a1c2964"
  },
  "kernelspec": {
   "display_name": "Python 3.9.7 ('qcf')",
   "language": "python",
   "name": "python3"
  },
  "language_info": {
   "codemirror_mode": {
    "name": "ipython",
    "version": 3
   },
   "file_extension": ".py",
   "mimetype": "text/x-python",
   "name": "python",
   "nbconvert_exporter": "python",
   "pygments_lexer": "ipython3",
   "version": "3.9.7"
  },
  "orig_nbformat": 4
 },
 "nbformat": 4,
 "nbformat_minor": 2
}
